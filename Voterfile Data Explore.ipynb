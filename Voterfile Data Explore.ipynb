{
 "cells": [
  {
   "cell_type": "code",
   "execution_count": 1,
   "metadata": {},
   "outputs": [],
   "source": [
    "from pandas import read_csv"
   ]
  },
  {
   "cell_type": "code",
   "execution_count": 3,
   "metadata": {},
   "outputs": [],
   "source": [
    "# converting file into a dataframe \n",
    "df = read_csv('./data/VoterRegOpenDataWithHistoryCSV.csv', low_memory = False)"
   ]
  },
  {
   "cell_type": "code",
   "execution_count": 4,
   "metadata": {},
   "outputs": [
    {
     "data": {
      "text/plain": "(82774, 364)"
     },
     "execution_count": 4,
     "metadata": {},
     "output_type": "execute_result"
    }
   ],
   "source": [
    "# creating dataframe 'df_d9' that is only comprised of District 9 voters\n",
    "df_d9 = df.loc[df['DIST19'] == 'CA9']\n",
    "df_d9.shape"
   ]
  },
  {
   "cell_type": "code",
   "execution_count": 8,
   "metadata": {},
   "outputs": [
    {
     "name": "stdout",
     "output_type": "stream",
     "text": [
      "[202 300 413 410 104 207 200 107 204 206 213 201 412 106 411 420 314 301\n",
      " 315 203 418 421 302 313 400 311 312 310 103 303 212 205]\n"
     ]
    }
   ],
   "source": [
    "# printing a list of all precints within District 9\n",
    "precints = df_d9['PCTCOD'].unique()\n",
    "print(precints)"
   ]
  },
  {
   "cell_type": "code",
   "execution_count": 9,
   "metadata": {},
   "outputs": [],
   "source": [
    "# saving the dataframe of District 9 voters into a csv\n",
    "df_d9.to_csv('./data/d9_voters.csv')"
   ]
  },
  {
   "cell_type": "code",
   "execution_count": 12,
   "metadata": {},
   "outputs": [
    {
     "name": "stdout",
     "output_type": "stream",
     "text": [
      "Precinct 202 has 2682 voters.\n",
      "Precinct 300 has 2132 voters.\n",
      "Precinct 413 has 2457 voters.\n",
      "Precinct 410 has 2704 voters.\n",
      "Precinct 104 has 3435 voters.\n",
      "Precinct 207 has 3762 voters.\n",
      "Precinct 200 has 4067 voters.\n",
      "Precinct 107 has 3402 voters.\n",
      "Precinct 204 has 3590 voters.\n",
      "Precinct 206 has 2764 voters.\n",
      "Precinct 213 has 3656 voters.\n",
      "Precinct 201 has 2055 voters.\n",
      "Precinct 412 has 1829 voters.\n",
      "Precinct 106 has 3112 voters.\n",
      "Precinct 411 has 3184 voters.\n",
      "Precinct 420 has 1167 voters.\n",
      "Precinct 314 has 3231 voters.\n",
      "Precinct 301 has 3129 voters.\n",
      "Precinct 315 has 3457 voters.\n",
      "Precinct 203 has 3380 voters.\n",
      "Precinct 418 has 870 voters.\n",
      "Precinct 421 has 1076 voters.\n",
      "Precinct 302 has 4055 voters.\n",
      "Precinct 313 has 3650 voters.\n",
      "Precinct 400 has 2172 voters.\n",
      "Precinct 311 has 3676 voters.\n",
      "Precinct 312 has 3464 voters.\n",
      "Precinct 310 has 3390 voters.\n",
      "Precinct 103 has 681 voters.\n",
      "Precinct 303 has 517 voters.\n",
      "Precinct 212 has 27 voters.\n",
      "Precinct 205 has 1 voters.\n"
     ]
    }
   ],
   "source": [
    "# calculating the total number of registered voters per precinct\n",
    "for v in precints:\n",
    "    holder = df_d9.loc[df_d9['PCTCOD'] == float(v)]\n",
    "    print(f'Precinct {v} has {holder.shape[0]} voters.')"
   ]
  }
 ],
 "metadata": {
  "kernelspec": {
   "display_name": "Python 3 (ipykernel)",
   "language": "python",
   "name": "python3"
  },
  "language_info": {
   "codemirror_mode": {
    "name": "ipython",
    "version": 3
   },
   "file_extension": ".py",
   "mimetype": "text/x-python",
   "name": "python",
   "nbconvert_exporter": "python",
   "pygments_lexer": "ipython3",
   "version": "3.9.5"
  }
 },
 "nbformat": 4,
 "nbformat_minor": 5
}